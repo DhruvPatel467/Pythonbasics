{
  "nbformat": 4,
  "nbformat_minor": 0,
  "metadata": {
    "colab": {
      "provenance": []
    },
    "kernelspec": {
      "name": "python3",
      "display_name": "Python 3"
    },
    "language_info": {
      "name": "python"
    }
  },
  "cells": [
    {
      "cell_type": "markdown",
      "source": [
        "# **Python Basics questions**\n"
      ],
      "metadata": {
        "id": "mIWXAvoTtw7y"
      }
    },
    {
      "cell_type": "markdown",
      "source": [
        "1. What is Python, and why is it popular?\n",
        "\n",
        "     - Python is a high-level,interpreted programming language known for its simplicity and readability. it was created by guido van Rossum and first released in 1991. Python supports multiple programming paradigms,including procedural,object-oriented, and functional programming.\n",
        "\n",
        "     why is python popular?\n",
        "      - Easy to Learn and Use.\n",
        "      - Versatile.\n",
        "      - Large Community and Support.\n",
        "      - Extensive Libraries.\n",
        "      - Cross-Platform.\n",
        "      - Open Sourse and Free.\n",
        "      - High Demand in job Market.\n",
        "      - Integration with other Languages like c, c++, java.\n",
        "      - Strong Support for Automation and Scripting.\n",
        "      - Readable and Maintainable code.\n",
        "\n",
        "      - overall, python is popular because it's both powerful and accessible,making  it ideal for beginners and professionals a like.\n",
        "\n",
        "2. What is an interpreter in python?\n",
        "\n",
        "    - An interpreter in python is a program that reads and executes Python code line by line.\n",
        "    - Instead of converting the entire code into machine language at once (like a compiler), the Python translates and runs each line one after another.\n",
        "    - Python is interpreted language, not compiled.\n",
        "    - The interpreter checks the syntax and executes the code immediately.\n",
        "    - If there is an error, the interpreter stops at that line and shows an error message.\n",
        "    - Common Python interpreters include CPython,PyPy,Jython and Ironpython.\n",
        "\n",
        "    Example:\n",
        "      \n",
        "\n",
        "\n",
        "\n"
      ],
      "metadata": {
        "id": "V_3nMAijuhvj"
      }
    },
    {
      "cell_type": "markdown",
      "source": [],
      "metadata": {
        "id": "yrvMAIdQ5a16"
      }
    },
    {
      "cell_type": "code",
      "source": [
        "print(\"Hello World\")\n",
        "x = 5 + 3\n",
        "print(x)"
      ],
      "metadata": {
        "colab": {
          "base_uri": "https://localhost:8080/"
        },
        "id": "H7Cj6utA4-fM",
        "outputId": "36d8b7ee-7de9-4cb2-a92f-a482a830b638"
      },
      "execution_count": null,
      "outputs": [
        {
          "output_type": "stream",
          "name": "stdout",
          "text": [
            "Hello World\n",
            "8\n"
          ]
        }
      ]
    },
    {
      "cell_type": "markdown",
      "source": [
        "3. What are pre-defined keywords in Python?\n",
        "\n",
        "  - Pre-defined keywords in Python are reserved words that have special meanings in the language. They are part of Python's syntax and cannot be used as variable names or identifiers.\n",
        "\n",
        "  Examples of Pre-defined Keywords in Python\n",
        "\n",
        "  - if :- Used for conditional statements.\n",
        "  - else :- Used with if to define alternate path.\n",
        "  - for :- Used for loops.\n",
        "  - while :- Used for loops.\n",
        "  - break :- Exits the current loop.\n",
        "  - continue :- Skips to the next iteration of a loop.\n",
        "  - def :- Defines a function.\n",
        "  - return :- Returns a value from a function.\n",
        "  - import :- Imports modules.\n",
        "  - class :- Defines a class(oop concept).\n",
        "  - try :- Used for exception handling.\n",
        "  - except :- Catches exceptions.\n",
        "  - True :- Boolean value.\n",
        "  - False :- Boolean value.\n",
        "  - None :- Represents a null value.\n",
        "\n",
        "4. Can keywords be used as variable names\n",
        "\n",
        "  - No, keywords cannot be used as variable names in python.\n",
        "  - Keywords are reserved words that are part of Python's syntax.\n",
        "  - variable names will cause a syntax error because Python won't be able to understand whether you're the keyword for its original purpose.\n",
        "  - To avoid confusion, never use keywords or names that closely resemble keywords (like classs,defn,etc.) as variable names.\n",
        "  - Use meaningful names :- age, total_price, user_name\n",
        "  Avoid short names like x,y unless Used in loops or small scopes.\n",
        "  - Never use or mimic keywords (like Class,DEf, etc.).\n",
        "\n",
        "5. What is mutability in Python?\n",
        "\n",
        "  mutability in Python\n",
        "\n",
        "  In Python, mutability refers to whether an object's state or value can be modified after it is created:\n",
        "\n",
        "  - Mutable Obejects: These objects allow in-place modification of their content. common example include :-\n",
        "  -- lists: you can add, remove ,or change elements.\n",
        "  -- dictionaries: You can add, modify, or delete key-value pairs.\n",
        "  -- Sets: You can add or remove elements.\n",
        "\n",
        "  -  Immutable objects: once created, their state cannot be changed.\n",
        "  --    Strings: Any operation that seems to modify a string actually creates a new string.\n",
        "  -- Tuples: You cannot alter their elements after creation.\n",
        "  -- Numbers: integer ,float, and complex numbers cannot be modified.\n",
        "\n",
        "  Why mutability Matters\n",
        "\n",
        "  understanding mutability is crucial because:\n",
        "\n",
        "  - performance: mutable objects can be more memory-efficient when frequent modifications are needed,as they avoid creating new objects.\n",
        "  - safety: immutable objects are inherently thread-safe and can be used as keys in dictionaries due to their unchangeble nature.\n",
        "  - unexpected Behavior: MOdifying a mutable object that is referenced in multiple places can lead to unintended side effects.\n",
        "\n",
        "6. why are lists mutable,but tuples are immutable?\n",
        "\n",
        "why are lists mutable?\n",
        "\n",
        "- Dynamic Data Handling: lists are designed to accommodate scenarios where data needs to change over time,such as adding,removing,or modifying elements. This mutability makes lists versatile for tasks requiring frequent updates.\n",
        "\n",
        "- Performance Considerations: Allowing in-place modifications means operations like appending or changing elements can be performed without creating new list obejects, leading to more efficient memory usage and performance in scenarios involving large datasets.\n",
        "\n",
        "why are tuples immutable?\n",
        "\n",
        "- Data Integrity: Immutability ensures that once a tuple is created ,its content remains constant throughout its lifetime.\n",
        "\n",
        "- Harshability: Due to their immutable nature, tuples can serve as keys in dictionaries or elements in sets, both of which require hashable(and thus immutable) items.\n",
        "\n",
        "7. What is the differrence between \"==\" and \"is\" operrators in python?\n",
        "\n",
        "  1. ==(Equality operator):\n",
        "   - Purpose: checks if the values of two variables are equal,regardless of whether they are the same object in memory.\n",
        "   - Compares: values/contents\n",
        "   - Example:\n",
        "   \n",
        "\n",
        "\n",
        "\n",
        "\n",
        "  \n",
        "  \n",
        "\n",
        "\n",
        "\n",
        "\n",
        "\n",
        "\n",
        "\n",
        "\n",
        "  \n",
        "\n",
        "  "
      ],
      "metadata": {
        "id": "aVnWrxDb5dno"
      }
    },
    {
      "cell_type": "code",
      "source": [
        "a = [1,2,3]\n",
        "b = [1,2,3]\n",
        "print(a == b)\n"
      ],
      "metadata": {
        "colab": {
          "base_uri": "https://localhost:8080/"
        },
        "id": "gVqIExIK_qR1",
        "outputId": "6bfcebaa-f9fb-4b03-e5a1-10cb28e94c00"
      },
      "execution_count": null,
      "outputs": [
        {
          "output_type": "stream",
          "name": "stdout",
          "text": [
            "True\n"
          ]
        }
      ]
    },
    {
      "cell_type": "markdown",
      "source": [
        "     2. is(identify operator):\n",
        "    \n",
        "      - purpose: checks if two variables point to the exact same object(i.e., same memory location).\n",
        "      - example:\n",
        "      "
      ],
      "metadata": {
        "id": "kOGSNu3CAJ6d"
      }
    },
    {
      "cell_type": "code",
      "source": [
        "a = [1 ,2 , 3]\n",
        "b = [1 ,2 ,3]\n",
        "print(a is b)\n"
      ],
      "metadata": {
        "colab": {
          "base_uri": "https://localhost:8080/"
        },
        "id": "5YjiaYP8Aw-T",
        "outputId": "0f783b4e-7142-48c9-e348-9466e27354f8"
      },
      "execution_count": null,
      "outputs": [
        {
          "output_type": "stream",
          "name": "stdout",
          "text": [
            "False\n"
          ]
        }
      ]
    },
    {
      "cell_type": "markdown",
      "source": [
        "8. What are logical operators in python?\n",
        "   \n",
        "    logical operators in python are used to combine conditional statements.They return Boolean values(True or False) based on the logic applied to the expressions.\n",
        "    - AND:- Returns True if both statements are true\n",
        "             5 > 2 and 3 < 4 :- True\n",
        "\n",
        "    - or :- Returns True if at least one statements is true\n",
        "             5 > 2 or 3 > 7  :- True\n",
        "\n",
        "     -not :- Reverses the result(True becomes False)\n",
        "             not(5>2) :- False=\n",
        "\n",
        "\n",
        "9. What is type casting in python?\n",
        "    \n",
        "      Type Casting in python is the process of converting one data into another. it allows you to manually change the type of a value or variable.\n",
        "\n",
        "- Types of Type Casting:\n",
        "   \n",
        "   1. Implicit Type casting(Automatic):\n",
        "       \n",
        "       python automatically converts one data type to another without user involvement.\n",
        "       \n",
        "\n",
        "\n",
        "\n",
        "\n",
        "\n",
        "\n"
      ],
      "metadata": {
        "id": "JiwIAFtWBV3L"
      }
    },
    {
      "cell_type": "code",
      "source": [
        "x = 5\n",
        "y = 2.0\n",
        "z = x + y\n",
        "print(z)"
      ],
      "metadata": {
        "colab": {
          "base_uri": "https://localhost:8080/"
        },
        "id": "V6sXGRmuFahl",
        "outputId": "eab1675b-f2a2-405a-bcf8-a98dbf80748c"
      },
      "execution_count": null,
      "outputs": [
        {
          "output_type": "stream",
          "name": "stdout",
          "text": [
            "7.0\n"
          ]
        }
      ]
    },
    {
      "cell_type": "markdown",
      "source": [
        "        2. explicit type Casting(Manual)\n",
        "\n",
        "            you manually convert one data type to another using built-in functions.\n",
        "\n",
        "            int()  :- integer\n",
        "            float()   :- Floating- point\n",
        "            str()    :- String\n",
        "            bool()   :- Boolean\n",
        "            list(),tuple(),set() :- Convert between collections\n",
        "             "
      ],
      "metadata": {
        "id": "509xkY5nFqtS"
      }
    },
    {
      "cell_type": "code",
      "source": [
        "a = \"10\"\n",
        "b = int(a)\n",
        "print(b + 5)"
      ],
      "metadata": {
        "colab": {
          "base_uri": "https://localhost:8080/"
        },
        "id": "dkc8R9HGGsUn",
        "outputId": "83d6882a-fb23-4545-b877-d2aa7ed800e9"
      },
      "execution_count": null,
      "outputs": [
        {
          "output_type": "stream",
          "name": "stdout",
          "text": [
            "15\n"
          ]
        }
      ]
    },
    {
      "cell_type": "markdown",
      "source": [
        "10. What is the difference between implicit and explicit type casting?\n",
        "\n",
        "   1. Implicit Type casting(Automatic):\n",
        "\n",
        "python automatically converts one data type to another without user involvement.\n",
        "\n"
      ],
      "metadata": {
        "id": "KPYcH4tjHCk1"
      }
    },
    {
      "cell_type": "code",
      "source": [
        "x = 10\n",
        "y = 2.0\n",
        "z = x + y\n",
        "print(z)"
      ],
      "metadata": {
        "colab": {
          "base_uri": "https://localhost:8080/"
        },
        "id": "qb6l_wOcHuIk",
        "outputId": "cf589d58-5772-4a10-d258-c0778cbe79c7"
      },
      "execution_count": null,
      "outputs": [
        {
          "output_type": "stream",
          "name": "stdout",
          "text": [
            "12.0\n"
          ]
        }
      ]
    },
    {
      "cell_type": "markdown",
      "source": [
        "        2. explicit type Casting(Manual)\n",
        "\n",
        "            you manually convert one data type to another using built-in functions.\n",
        "\n",
        "            int()  :- integer\n",
        "            float()   :- Floating- point\n",
        "            str()    :- String\n",
        "            bool()   :- Boolean\n",
        "            list(),tuple(),set() :- Convert between collections"
      ],
      "metadata": {
        "id": "h0f-6CTGIMe5"
      }
    },
    {
      "cell_type": "code",
      "source": [
        "a = \"50\"\n",
        "b = int(a)\n",
        "print(b + 5)"
      ],
      "metadata": {
        "colab": {
          "base_uri": "https://localhost:8080/"
        },
        "id": "JgOveCmYITC-",
        "outputId": "7644f78e-6801-457a-a511-781983b64836"
      },
      "execution_count": null,
      "outputs": [
        {
          "output_type": "stream",
          "name": "stdout",
          "text": [
            "55\n"
          ]
        }
      ]
    },
    {
      "cell_type": "markdown",
      "source": [
        "11. What is the purpose of conditional statements in python?\n",
        "\n",
        "  Conditional statements are used to make decisions in a python program. They allow the program to execute certain blocks of code only if specific conditions are met.\n",
        "   \n",
        "   1. Decision making:\n",
        "   Run different code based on conditions(e.g., age > 18 :- allow access)\n",
        "\n",
        "   2. control program flow:\n",
        "   They help in controlling how a program behaves in different situations.\n",
        "\n",
        "   3. implement logic:\n",
        "   you can build logic like validations, comparisons,or responses based on inputs.\n",
        "\n",
        "   Types of conditional Statements:\n",
        "\n",
        "  - if: Executes a block if the condition is true.\n",
        "\n",
        "  - elif: Checks another condition if(if) is false.\n",
        "\n",
        "  - else: executes if all above conditions are false.\n",
        "\n",
        "\n",
        "12. How does the elif statement work?\n",
        "\n",
        "   - The elif (short for else if) statement allows you to check multiple conditions after an initial if condition.it is used when you have more than two possible outcomes.\n",
        "\n",
        "   How it works:\n",
        "   1. python checks the if condition first.\n",
        "   2. if it's True,the corresponding block runs,and the rest is skipped.\n",
        "   3. If if is False ,Python checks each elif condition in order.\n",
        "   4. If one elif is True,that block runs and the rest are skipped.\n",
        "   5. If all conditions are False,the else block runs(if present).\n",
        "\n",
        "\n",
        "13. What is the difference between for and while loops?\n",
        "\n",
        "  1. for loop:\n",
        "        Used when you know in advance how many times you want to run a block of code.\n",
        "        Commonly used to iterate over sequence like lists, strings or ranges.\n",
        "        \n",
        "        \n",
        "\n",
        "  \n",
        "   \n",
        "\n",
        "\n",
        "\n"
      ],
      "metadata": {
        "id": "ibyC_vQjIk7V"
      }
    },
    {
      "cell_type": "code",
      "source": [
        "for i in range(5):\n",
        "  print(i)"
      ],
      "metadata": {
        "colab": {
          "base_uri": "https://localhost:8080/"
        },
        "id": "XyHKat_AO3b3",
        "outputId": "88a5c2ac-0532-4caa-f470-d3f00045e5ce"
      },
      "execution_count": null,
      "outputs": [
        {
          "output_type": "stream",
          "name": "stdout",
          "text": [
            "0\n",
            "1\n",
            "2\n",
            "3\n",
            "4\n"
          ]
        }
      ]
    },
    {
      "cell_type": "markdown",
      "source": [
        "       2.  \n",
        "       - Used when you want to repeat a block of code as long as a condition is true.\n",
        "       - you may not know beforahand how many times the loop should run."
      ],
      "metadata": {
        "id": "yRem9xzcPJjs"
      }
    },
    {
      "cell_type": "code",
      "source": [
        "i = 0\n",
        "while i < 5:\n",
        "  print(i)\n",
        "  i += 1"
      ],
      "metadata": {
        "colab": {
          "base_uri": "https://localhost:8080/"
        },
        "id": "JojP9GkaPuyq",
        "outputId": "a0d53d30-1934-48c8-9152-5d6d0768bd30"
      },
      "execution_count": null,
      "outputs": [
        {
          "output_type": "stream",
          "name": "stdout",
          "text": [
            "0\n",
            "1\n",
            "2\n",
            "3\n",
            "4\n"
          ]
        }
      ]
    },
    {
      "cell_type": "markdown",
      "source": [
        "14.  Describe a scenario where a while loop is more suitable than a for loop.\n",
        "    \n",
        "**    User login system**\n",
        "\n",
        "     - Imagine you're building a login sysytem where the user has to enter the correct password. you don't know how many times the might enter it wrong ,so you continue asking until it's correct. this is a perfect case for a while loop.\n",
        "\n",
        "     **why while is better here:**\n",
        "\n",
        "     - you don't know how many attempts the user will need.\n",
        "     - The loop should continue as long as a condition is true(password is incorrect).\n",
        "     - Using a for would require setting a fixed number of attempts ,which isn't flexible.\n",
        "\n",
        "#      **PRACTICAL QUESTIONS**\n",
        "      \n",
        "\n"
      ],
      "metadata": {
        "id": "zsmLxYKSQNu4"
      }
    },
    {
      "cell_type": "markdown",
      "source": [
        "1. write a python program to print \"Hello,World!\"\n",
        "\n"
      ],
      "metadata": {
        "id": "XVBGQjdhTSUb"
      }
    },
    {
      "cell_type": "code",
      "source": [
        "print(\"Hello,World!\")"
      ],
      "metadata": {
        "colab": {
          "base_uri": "https://localhost:8080/"
        },
        "id": "sm8T2QLaT65H",
        "outputId": "4ffb787d-deba-4167-e795-f8fdaa3ff87a"
      },
      "execution_count": 3,
      "outputs": [
        {
          "output_type": "stream",
          "name": "stdout",
          "text": [
            "Hello,World!\n"
          ]
        }
      ]
    },
    {
      "cell_type": "markdown",
      "source": [
        "2. write a python program that diaplays name and age."
      ],
      "metadata": {
        "id": "Rt2dfAMOUb-8"
      }
    },
    {
      "cell_type": "code",
      "source": [
        "Name = \"Dhruv\"\n",
        "Age = 18\n",
        "print(\"Name:\",Name)\n",
        "print(\"Age:\",Age)"
      ],
      "metadata": {
        "colab": {
          "base_uri": "https://localhost:8080/"
        },
        "id": "ZUDdiVqwUnXg",
        "outputId": "f6c6d911-d5d5-41b1-c2ba-be82248800e3"
      },
      "execution_count": 4,
      "outputs": [
        {
          "output_type": "stream",
          "name": "stdout",
          "text": [
            "Name: Dhruv\n",
            "Age: 18\n"
          ]
        }
      ]
    },
    {
      "cell_type": "markdown",
      "source": [
        "3. write code to print all the pre-defined keyword library.\n"
      ],
      "metadata": {
        "id": "sHjoE71DW79R"
      }
    },
    {
      "cell_type": "code",
      "source": [
        "import keyword\n",
        "print(\"'False','None','True','and','as','assert','asyns','await',....'yield'\")\n",
        "print(keyword.kwlist)"
      ],
      "metadata": {
        "colab": {
          "base_uri": "https://localhost:8080/"
        },
        "id": "4hQCNKfQXJfZ",
        "outputId": "5e1f22a6-b8bd-49ea-c912-58705805e6b3"
      },
      "execution_count": 5,
      "outputs": [
        {
          "output_type": "stream",
          "name": "stdout",
          "text": [
            "'False','None','True','and','as','assert','asyns','await',....'yield'\n",
            "['False', 'None', 'True', 'and', 'as', 'assert', 'async', 'await', 'break', 'class', 'continue', 'def', 'del', 'elif', 'else', 'except', 'finally', 'for', 'from', 'global', 'if', 'import', 'in', 'is', 'lambda', 'nonlocal', 'not', 'or', 'pass', 'raise', 'return', 'try', 'while', 'with', 'yield']\n"
          ]
        }
      ]
    },
    {
      "cell_type": "markdown",
      "source": [
        "4. write a program that checks if a given word is a python keyword.\n"
      ],
      "metadata": {
        "id": "1RgvaLwBX9an"
      }
    },
    {
      "cell_type": "code",
      "source": [
        "import keyword\n",
        "\n",
        "word = input(\"Enter a word: \")\n",
        "\n",
        "if keyword.iskeyword(word):\n",
        "  print(f\"'{word}' is a Python keyword.\")\n",
        "else:\n",
        "  print(f\"'{word}' is not a Python keyword.\")"
      ],
      "metadata": {
        "colab": {
          "base_uri": "https://localhost:8080/"
        },
        "id": "yRp__WYWYgz_",
        "outputId": "2b9cfe80-d889-40b1-bcb1-d87e9108710a"
      },
      "execution_count": 1,
      "outputs": [
        {
          "output_type": "stream",
          "name": "stdout",
          "text": [
            "Enter a word: dhruv\n",
            "'dhruv' is not a Python keyword.\n"
          ]
        }
      ]
    },
    {
      "cell_type": "markdown",
      "source": [
        " 5. Create a list and tuple in python, and demonstrate how attempting to change an element works differently for each"
      ],
      "metadata": {
        "id": "obKUEIT3JR03"
      }
    },
    {
      "cell_type": "code",
      "source": [
        "# Creating a list\n",
        "my_list = [1, 2, 3, 4]\n",
        "\n",
        "# Creating a tuple\n",
        "my_tuple = (1, 2, 3, 4)\n",
        "\n",
        "# Attempting to change an element in the list\n",
        "my_list[2] = 100  # This will work because lists are mutable\n",
        "print(\"Updated List:\", my_list)\n",
        "\n",
        "# Attempting to change an element in the tuple\n",
        "try:\n",
        "    my_tuple[2] = 100  # This will raise an error because tuples are immutable\n",
        "except TypeError as e:\n",
        "    print(\"Error while updating Tuple:\", e)\n"
      ],
      "metadata": {
        "colab": {
          "base_uri": "https://localhost:8080/"
        },
        "id": "TZiuDv8zJvVt",
        "outputId": "06468203-6c21-4164-b219-64fafe23c78b"
      },
      "execution_count": 2,
      "outputs": [
        {
          "output_type": "stream",
          "name": "stdout",
          "text": [
            "Updated List: [1, 2, 100, 4]\n",
            "Error while updating Tuple: 'tuple' object does not support item assignment\n"
          ]
        }
      ]
    },
    {
      "cell_type": "markdown",
      "source": [
        "6. Write a function to demonstrate the behavior of mutable and immutable arguments."
      ],
      "metadata": {
        "id": "-ZEdDcppLIne"
      }
    },
    {
      "cell_type": "code",
      "source": [
        "def demonstrate_mutable_immutable():\n",
        "    # Immutable argument (integer)\n",
        "    num = 10\n",
        "\n",
        "    def modify_immutable(val):\n",
        "        print(f\"Original value of num: {val}\")\n",
        "        val += 5\n",
        "        print(f\"Modified value inside function: {val}\")\n",
        "\n",
        "    # Mutable argument (list)\n",
        "    my_list = [1, 2, 3]\n",
        "\n",
        "    def modify_mutable(lst):\n",
        "        print(f\"Original list: {lst}\")\n",
        "        lst.append(4)\n",
        "        print(f\"Modified list inside function: {lst}\")\n",
        "\n",
        "    print(\"Immutable Argument Behavior (Integer):\")\n",
        "    modify_immutable(num)\n",
        "    print(f\"Value of num after function call: {num}\")  # num remains unchanged outside the function\n",
        "\n",
        "    print(\"\\nMutable Argument Behavior (List):\")\n",
        "    modify_mutable(my_list)\n",
        "    print(f\"Value of my_list after function call: {my_list}\")  # my_list is modified outside the function\n",
        "\n",
        "# Call the function\n",
        "demonstrate_mutable_immutable()\n"
      ],
      "metadata": {
        "colab": {
          "base_uri": "https://localhost:8080/"
        },
        "id": "ayLPqLYHLYem",
        "outputId": "a97d1d68-d395-42ae-ace2-c4a1dd498e12"
      },
      "execution_count": 3,
      "outputs": [
        {
          "output_type": "stream",
          "name": "stdout",
          "text": [
            "Immutable Argument Behavior (Integer):\n",
            "Original value of num: 10\n",
            "Modified value inside function: 15\n",
            "Value of num after function call: 10\n",
            "\n",
            "Mutable Argument Behavior (List):\n",
            "Original list: [1, 2, 3]\n",
            "Modified list inside function: [1, 2, 3, 4]\n",
            "Value of my_list after function call: [1, 2, 3, 4]\n"
          ]
        }
      ]
    },
    {
      "cell_type": "markdown",
      "source": [
        "7. Write a program that performs basic arithmetic operations on two user-input numbers."
      ],
      "metadata": {
        "id": "8tfEFeHNLckb"
      }
    },
    {
      "cell_type": "code",
      "source": [
        "# Function to perform arithmetic operations\n",
        "def arithmetic_operations():\n",
        "    # Get user input for two numbers\n",
        "    num1 = float(input(\"Enter the first number: \"))\n",
        "    num2 = float(input(\"Enter the second number: \"))\n",
        "\n",
        "    # Perform and display basic arithmetic operations\n",
        "    print(f\"\\nResults of basic arithmetic operations on {num1} and {num2}:\")\n",
        "\n",
        "    # Addition\n",
        "    addition = num1 + num2\n",
        "    print(f\"Addition: {num1} + {num2} = {addition}\")\n",
        "\n",
        "    # Subtraction\n",
        "    subtraction = num1 - num2\n",
        "    print(f\"Subtraction: {num1} - {num2} = {subtraction}\")\n",
        "\n",
        "    # Multiplication\n",
        "    multiplication = num1 * num2\n",
        "    print(f\"Multiplication: {num1} * {num2} = {multiplication}\")\n",
        "\n",
        "    # Division (with check to prevent division by zero)\n",
        "    if num2 != 0:\n",
        "        division = num1 / num2\n",
        "        print(f\"Division: {num1} / {num2} = {division}\")\n",
        "    else:\n",
        "        print(\"Division: Cannot divide by zero!\")\n",
        "\n",
        "# Call the function\n",
        "arithmetic_operations()\n"
      ],
      "metadata": {
        "colab": {
          "base_uri": "https://localhost:8080/"
        },
        "id": "YcDnV3TVLrl7",
        "outputId": "4d52e8dc-d62b-40b9-9523-88f3b759ed52"
      },
      "execution_count": 4,
      "outputs": [
        {
          "output_type": "stream",
          "name": "stdout",
          "text": [
            "Enter the first number: 22\n",
            "Enter the second number: 2\n",
            "\n",
            "Results of basic arithmetic operations on 22.0 and 2.0:\n",
            "Addition: 22.0 + 2.0 = 24.0\n",
            "Subtraction: 22.0 - 2.0 = 20.0\n",
            "Multiplication: 22.0 * 2.0 = 44.0\n",
            "Division: 22.0 / 2.0 = 11.0\n"
          ]
        }
      ]
    },
    {
      "cell_type": "markdown",
      "source": [
        "8. Write a program to demonstrate the use of logical operators."
      ],
      "metadata": {
        "id": "ITyawHYIL2Bf"
      }
    },
    {
      "cell_type": "code",
      "source": [
        "# Function to demonstrate logical operators\n",
        "def logical_operators_demo():\n",
        "    # Get user input for two boolean values (True/False)\n",
        "    x = bool(int(input(\"Enter the first value (1 for True, 0 for False): \")))\n",
        "    y = bool(int(input(\"Enter the second value (1 for True, 0 for False): \")))\n",
        "\n",
        "    print(f\"\\nLogical operations between {x} and {y}:\")\n",
        "\n",
        "    # AND operation\n",
        "    and_result = x and y\n",
        "    print(f\"AND: {x} and {y} = {and_result}\")\n",
        "\n",
        "    # OR operation\n",
        "    or_result = x or y\n",
        "    print(f\"OR: {x} or {y} = {or_result}\")\n",
        "\n",
        "    # NOT operation (applies to one value)\n",
        "    not_x = not x\n",
        "    not_y = not y\n",
        "    print(f\"NOT: not {x} = {not_x}, not {y} = {not_y}\")\n",
        "\n",
        "# Call the function\n",
        "logical_operators_demo()\n"
      ],
      "metadata": {
        "colab": {
          "base_uri": "https://localhost:8080/"
        },
        "id": "T1KJRGOZMAsq",
        "outputId": "9d5a54fc-d127-460e-8466-c290dc7792df"
      },
      "execution_count": 5,
      "outputs": [
        {
          "output_type": "stream",
          "name": "stdout",
          "text": [
            "Enter the first value (1 for True, 0 for False): 1\n",
            "Enter the second value (1 for True, 0 for False): 5\n",
            "\n",
            "Logical operations between True and True:\n",
            "AND: True and True = True\n",
            "OR: True or True = True\n",
            "NOT: not True = False, not True = False\n"
          ]
        }
      ]
    },
    {
      "cell_type": "markdown",
      "source": [
        "9. Write a Python program to convert user input from string to integer, float, and boolean types."
      ],
      "metadata": {
        "id": "_LwRr_WJMHz2"
      }
    },
    {
      "cell_type": "code",
      "source": [
        "# Taking user input as a string\n",
        "user_input = input(\"Enter a value: \")\n",
        "\n",
        "# Converting the input to integer, float, and boolean types\n",
        "try:\n",
        "    integer_value = int(user_input)\n",
        "    print(f\"Integer: {integer_value}\")\n",
        "except ValueError:\n",
        "    print(\"Cannot convert to Integer\")\n",
        "\n",
        "try:\n",
        "    float_value = float(user_input)\n",
        "    print(f\"Float: {float_value}\")\n",
        "except ValueError:\n",
        "    print(\"Cannot convert to Float\")\n",
        "\n",
        "# For boolean conversion, we'll check for specific truthy and falsy values\n",
        "if user_input.lower() in ['true', '1', 't', 'y', 'yes']:\n",
        "    boolean_value = True\n",
        "elif user_input.lower() in ['false', '0', 'f', 'n', 'no']:\n",
        "    boolean_value = False\n",
        "else:\n",
        "    boolean_value = None  # If input doesn't match any boolean representation\n",
        "    print(\"Cannot convert to Boolean\")\n",
        "\n",
        "if boolean_value is not None:\n",
        "    print(f\"Boolean: {boolean_value}\")\n"
      ],
      "metadata": {
        "colab": {
          "base_uri": "https://localhost:8080/"
        },
        "id": "OJSEsV03MQVU",
        "outputId": "92cb10a1-7007-4430-f9fc-4849b5a4f1bc"
      },
      "execution_count": 7,
      "outputs": [
        {
          "output_type": "stream",
          "name": "stdout",
          "text": [
            "Enter a value: 22.2\n",
            "Cannot convert to Integer\n",
            "Float: 22.2\n",
            "Cannot convert to Boolean\n"
          ]
        }
      ]
    },
    {
      "cell_type": "markdown",
      "source": [
        "10. Write code to demonstrate type casting with list elements."
      ],
      "metadata": {
        "id": "5VSsOTQpMhyX"
      }
    },
    {
      "cell_type": "code",
      "source": [
        "# Original list with elements of different types\n",
        "my_list = ['1', '2', '3.5', 'True']\n",
        "\n",
        "# Display original list\n",
        "print(\"Original List:\")\n",
        "print(my_list)\n",
        "\n",
        "# Type casting each element to different types\n",
        "int_list = [int(x) if x.isdigit() else 0 for x in my_list]  # Casting strings of digits to integers\n",
        "float_list = [float(x) if '.' in x else 0.0 for x in my_list]  # Casting to float\n",
        "bool_list = [bool(x) for x in my_list]  # Casting to boolean values\n",
        "\n",
        "# Display the results\n",
        "print(\"\\nList with elements casted to integers:\")\n",
        "print(int_list)\n",
        "\n",
        "print(\"\\nList with elements casted to floats:\")\n",
        "print(float_list)\n",
        "\n",
        "print(\"\\nList with elements casted to booleans:\")\n",
        "print(bool_list)\n"
      ],
      "metadata": {
        "colab": {
          "base_uri": "https://localhost:8080/"
        },
        "id": "G6q1W0LlMs92",
        "outputId": "805b91c5-236d-4f96-db1b-36da5c70f081"
      },
      "execution_count": 8,
      "outputs": [
        {
          "output_type": "stream",
          "name": "stdout",
          "text": [
            "Original List:\n",
            "['1', '2', '3.5', 'True']\n",
            "\n",
            "List with elements casted to integers:\n",
            "[1, 2, 0, 0]\n",
            "\n",
            "List with elements casted to floats:\n",
            "[0.0, 0.0, 3.5, 0.0]\n",
            "\n",
            "List with elements casted to booleans:\n",
            "[True, True, True, True]\n"
          ]
        }
      ]
    },
    {
      "cell_type": "markdown",
      "source": [
        "11. Write a program that checks if a number is positive, negative, or zero."
      ],
      "metadata": {
        "id": "eGbA6U7OM54k"
      }
    },
    {
      "cell_type": "code",
      "source": [
        "# Program to check if the number is positive, negative, or zero\n",
        "\n",
        "# Get input from the user\n",
        "number = float(input(\"Enter a number: \"))\n",
        "\n",
        "# Check if the number is positive, negative, or zero\n",
        "if number > 0:\n",
        "    print(\"The number is positive.\")\n",
        "elif number < 0:\n",
        "    print(\"The number is negative.\")\n",
        "else:\n",
        "    print(\"The number is zero.\")\n"
      ],
      "metadata": {
        "colab": {
          "base_uri": "https://localhost:8080/"
        },
        "id": "E9LaKyA6NFwZ",
        "outputId": "57cf3143-7eff-4632-f372-82f197772c78"
      },
      "execution_count": 9,
      "outputs": [
        {
          "output_type": "stream",
          "name": "stdout",
          "text": [
            "Enter a number: 45\n",
            "The number is positive.\n"
          ]
        }
      ]
    },
    {
      "cell_type": "markdown",
      "source": [
        "12. Write a for loop to print numbers from 1 to 10."
      ],
      "metadata": {
        "id": "E9ReGCLONKRu"
      }
    },
    {
      "cell_type": "code",
      "source": [
        "for i in range(1, 11):\n",
        "    print(i)\n"
      ],
      "metadata": {
        "colab": {
          "base_uri": "https://localhost:8080/"
        },
        "id": "OUTIrnHDNTBp",
        "outputId": "cc9a364b-9215-4260-c0ee-fd55a4839b93"
      },
      "execution_count": 10,
      "outputs": [
        {
          "output_type": "stream",
          "name": "stdout",
          "text": [
            "1\n",
            "2\n",
            "3\n",
            "4\n",
            "5\n",
            "6\n",
            "7\n",
            "8\n",
            "9\n",
            "10\n"
          ]
        }
      ]
    },
    {
      "cell_type": "markdown",
      "source": [
        "13. Write a Python program to find the sum of all even numbers between 1 and 50."
      ],
      "metadata": {
        "id": "Ixujzf6UNcIF"
      }
    },
    {
      "cell_type": "code",
      "source": [
        "# Initialize the sum to 0\n",
        "sum_of_evens = 0\n",
        "\n",
        "# Loop through the numbers from 1 to 50\n",
        "for number in range(1, 51):\n",
        "    # Check if the number is even\n",
        "    if number % 2 == 0:\n",
        "        sum_of_evens += number\n",
        "\n",
        "# Output the result\n",
        "print(\"The sum of all even numbers between 1 and 50 is:\", sum_of_evens)\n"
      ],
      "metadata": {
        "colab": {
          "base_uri": "https://localhost:8080/"
        },
        "id": "t7svqK5UNkrh",
        "outputId": "8b47ccf5-d4d8-495d-db94-36d3905dfffe"
      },
      "execution_count": 11,
      "outputs": [
        {
          "output_type": "stream",
          "name": "stdout",
          "text": [
            "The sum of all even numbers between 1 and 50 is: 650\n"
          ]
        }
      ]
    },
    {
      "cell_type": "markdown",
      "source": [
        "14. Write a program to reverse a string using a while loop."
      ],
      "metadata": {
        "id": "UvKBTraDNuDI"
      }
    },
    {
      "cell_type": "code",
      "source": [
        "def reverse_string(input_string):\n",
        "    reversed_string = \"\"\n",
        "    index = len(input_string) - 1\n",
        "\n",
        "    while index >= 0:\n",
        "        reversed_string += input_string[index]\n",
        "        index -= 1\n",
        "\n",
        "    return reversed_string\n",
        "\n",
        "# Example usage\n",
        "input_string = \"Hello, World!\"\n",
        "result = reverse_string(input_string)\n",
        "print(f\"Reversed string: {result}\")\n"
      ],
      "metadata": {
        "colab": {
          "base_uri": "https://localhost:8080/"
        },
        "id": "hT9SW7gCNzyk",
        "outputId": "2a659ccb-4d22-41b0-f1e7-bb66b7d3fe21"
      },
      "execution_count": 12,
      "outputs": [
        {
          "output_type": "stream",
          "name": "stdout",
          "text": [
            "Reversed string: !dlroW ,olleH\n"
          ]
        }
      ]
    },
    {
      "cell_type": "markdown",
      "source": [
        "15. Write a Python program to calculate the factorial of a number provided by the user using a while loop."
      ],
      "metadata": {
        "id": "cLrN6mI-N-zS"
      }
    },
    {
      "cell_type": "code",
      "source": [
        "# Get user input\n",
        "num = int(input(\"Enter a number to calculate its factorial: \"))\n",
        "\n",
        "# Initialize factorial as 1\n",
        "factorial = 1\n",
        "\n",
        "# Check if the number is negative, zero, or positive\n",
        "if num < 0:\n",
        "    print(\"Factorial is not defined for negative numbers.\")\n",
        "elif num == 0:\n",
        "    print(\"The factorial of 0 is 1.\")\n",
        "else:\n",
        "    # Calculate factorial using a while loop\n",
        "    while num > 0:\n",
        "        factorial *= num\n",
        "        num -= 1\n",
        "\n",
        "    print(f\"The factorial is: {factorial}\")\n"
      ],
      "metadata": {
        "colab": {
          "base_uri": "https://localhost:8080/"
        },
        "id": "oiPunVQCODTo",
        "outputId": "76bebf71-c7a8-457c-ea5e-dfc2dc59914e"
      },
      "execution_count": 13,
      "outputs": [
        {
          "output_type": "stream",
          "name": "stdout",
          "text": [
            "Enter a number to calculate its factorial: 5\n",
            "The factorial is: 120\n"
          ]
        }
      ]
    }
  ]
}